{
  "nbformat": 4,
  "nbformat_minor": 0,
  "metadata": {
    "colab": {
      "provenance": [],
      "mount_file_id": "1SuQ7O8aKYq4W_-01IDQRdUdj5ts85LQC",
      "authorship_tag": "ABX9TyOJF9FWyimtCaZQLUTH1WAq",
      "include_colab_link": true
    },
    "kernelspec": {
      "name": "python3",
      "display_name": "Python 3"
    },
    "language_info": {
      "name": "python"
    }
  },
  "cells": [
    {
      "cell_type": "markdown",
      "metadata": {
        "id": "view-in-github",
        "colab_type": "text"
      },
      "source": [
        "<a href=\"https://colab.research.google.com/github/kamyarmrd/BML-project-OAI/blob/main/WholeOAIMRIs.ipynb\" target=\"_parent\"><img src=\"https://colab.research.google.com/assets/colab-badge.svg\" alt=\"Open In Colab\"/></a>"
      ]
    },
    {
      "cell_type": "code",
      "source": [
        "# Installing libraries\n",
        "!pip install SimpleITK\n",
        "!pip install pydicom\n",
        "!pip install dicom2nifti"
      ],
      "metadata": {
        "id": "JihjpVPnzb8M"
      },
      "execution_count": null,
      "outputs": []
    },
    {
      "cell_type": "code",
      "source": [
        "import sys\n",
        "print(sys.version)"
      ],
      "metadata": {
        "colab": {
          "base_uri": "https://localhost:8080/"
        },
        "id": "dN_aA-tm6qII",
        "outputId": "1047b63e-9f6c-4117-d7e1-1173353621ac"
      },
      "execution_count": null,
      "outputs": [
        {
          "output_type": "stream",
          "name": "stdout",
          "text": [
            "3.10.12 (main, Jun 11 2023, 05:26:28) [GCC 11.4.0]\n"
          ]
        }
      ]
    },
    {
      "cell_type": "code",
      "source": [
        "# Importing libraries\n",
        "%matplotlib inline\n",
        "import glob\n",
        "import cv2\n",
        "import random\n",
        "import os\n",
        "import shutil\n",
        "import pydicom\n",
        "import nibabel as nib\n",
        "import numpy as np\n",
        "import SimpleITK as sitk\n",
        "from PIL import Image\n",
        "from matplotlib import pyplot as plt"
      ],
      "metadata": {
        "id": "ZlUBslFAzmST"
      },
      "execution_count": null,
      "outputs": []
    },
    {
      "cell_type": "code",
      "source": [
        "import os\n",
        "import shutil\n",
        "import re  # Regular expression library\n",
        "import pydicom\n",
        "\n",
        "\n",
        "# specify the source directory and destination directory\n",
        "root_dir = '/content/drive/MyDrive/FNIH'  #please change this path to the folder of All baseline MRI images of OAI\n",
        "new_dir = '/content/drive/MyDrive/SAG_OAIMRIsBaseline' #please create a new folder first and them copy its path here\n",
        "\n",
        "# Create the new directory if it doesn't exist\n",
        "os.makedirs(new_dir, exist_ok=True)\n",
        "\n",
        "# Iterate over all subdirectories and files in root_dir\n",
        "for subdir, dirs, files in os.walk(root_dir):\n",
        "    # Split the current directory path into components\n",
        "    path_components = os.path.normpath(subdir).split(os.sep)\n",
        "\n",
        "        # Get the patient ID from the name of the fifth subdirectory in the path\n",
        "    patient_id = path_components[4]\n",
        "\n",
        "    # Initialize a counter\n",
        "    counter = 0\n",
        "        # Iterate over all files in the current subdirectory\n",
        "    for filename in files:\n",
        "            # Construct the full path to the file\n",
        "        file_path = os.path.join(subdir, filename)\n",
        "\n",
        "            # Check if this is a DICOM file (i.e., it has no file extension)\n",
        "        if os.path.isfile(file_path) and not os.path.splitext(file_path)[1] and not filename.endswith('.jpg'):\n",
        "                # Read the DICOM file\n",
        "            ds = pydicom.dcmread(file_path, force=True)\n",
        "\n",
        "                # Convert the DICOM dataset to a string\n",
        "            ds_str = str(ds)\n",
        "\n",
        "                # Determine the view position and side based on the DICOM dataset\n",
        "            view_position = 'SAG_IW' if 'SAG_IW' in ds_str else 'Unknown'\n",
        "            side = 'LEFT' if 'LEFT' in ds_str else ('RIGHT' if 'RIGHT' in ds_str else 'Unknown')\n",
        "\n",
        "                # Extract slice number from filename and convert it to integer\n",
        "\n",
        "\n",
        "            slice_number = int(re.search(r'\\d+', filename).group())\n",
        "\n",
        "                # Construct a new name for the file based on its metadata and original name\n",
        "            new_name = f\"{patient_id}_{view_position}_{side}_{slice_number}_{counter}\"\n",
        "\n",
        "                # Construct the full path to the new file\n",
        "            new_path = os.path.join(new_dir, new_name)\n",
        "\n",
        "                # Copy the file to new directory if view_position is 'SAG_IW'\n",
        "            if view_position == 'SAG_IW':\n",
        "                shutil.copy2(file_path, new_path)\n",
        "                counter += 1"
      ],
      "metadata": {
        "id": "U3RjN78pfpj3"
      },
      "execution_count": null,
      "outputs": []
    },
    {
      "cell_type": "code",
      "source": [
        "#----------Convert DICOM to NIFTI and move them to a new folder------------------------\n",
        "\n",
        "import os\n",
        "import numpy as np\n",
        "import nibabel as nib\n",
        "import pydicom\n",
        "\n",
        "def dicom2nifti(input_dir):\n",
        "    # Create a new directory at the location of the input directory\n",
        "    output_dir = os.path.join(os.path.dirname(input_dir), 'nifti_MRIs00')\n",
        "    os.makedirs(output_dir, exist_ok=True)\n",
        "\n",
        "    # Create a dictionary to store the DICOM files for each subject_id and side\n",
        "    dicom_files = {}\n",
        "\n",
        "    # Iterate over all files in input_dir\n",
        "    for filename in os.listdir(input_dir):\n",
        "        # Check if 'RIGHT' or 'LEFT' is in the filename\n",
        "        if 'RIGHT' in filename or 'LEFT' in filename:\n",
        "            # Extract the subject_id, side, and slice_number from the filename\n",
        "            parts = filename.split('_')\n",
        "            subject_id = parts[0]\n",
        "            side = parts[3]\n",
        "            slice_number = parts[-1]\n",
        "\n",
        "            # Add the file to the dictionary\n",
        "            if (subject_id, side) not in dicom_files:\n",
        "                dicom_files[(subject_id, side)] = []\n",
        "            dicom_files[(subject_id, side)].append((int(slice_number), os.path.join(input_dir, filename)))\n",
        "\n",
        "    # Convert the lists of DICOM files to NIFTI format\n",
        "    for (subject_id, side), files in dicom_files.items():\n",
        "        # Sort the files based on the slice number\n",
        "        files.sort()\n",
        "\n",
        "        # Read the DICOM files\n",
        "        slices = [pydicom.dcmread(f) for _, f in files]\n",
        "\n",
        "        # Get the pixel data from the slices and stack them along a new first axis\n",
        "        img = np.stack([s.pixel_array for s in slices], axis=2)\n",
        "\n",
        "        # Create a NIFTI image from the pixel data\n",
        "        img_nifti = nib.Nifti1Image(img, np.eye(4))\n",
        "\n",
        "        # Construct the path to save the new NIFTI file\n",
        "        new_file_path = os.path.join(output_dir, f\"{subject_id}_{side}.nii\")\n",
        "\n",
        "        # Save the NIFTI image\n",
        "        nib.save(img_nifti, new_file_path)\n",
        "\n",
        "dicom2nifti('/content/drive/MyDrive/SAG_OAIMRIsBaseline') #please change this to the path for output folder of the previous bit\n",
        "\n"
      ],
      "metadata": {
        "id": "XgUD7t2gdG5n"
      },
      "execution_count": null,
      "outputs": []
    },
    {
      "cell_type": "code",
      "source": [
        "#----------------------------------------left-right orientation------------------------------------\n",
        "import os\n",
        "import numpy as np\n",
        "import nibabel as nib\n",
        "import shutil\n",
        "\n",
        "def flip_images(input_dir):\n",
        "    # Create a new directory at the location of the input directory\n",
        "    output_dir = os.path.join(os.path.dirname(input_dir), 'orientedMRIs00')\n",
        "    os.makedirs(output_dir, exist_ok=True)\n",
        "\n",
        "    # Iterate over all files in input_dir\n",
        "    for filename in os.listdir(input_dir):\n",
        "        # Construct the path to the file\n",
        "        file_path = os.path.join(input_dir, filename)\n",
        "\n",
        "        # Load the nifti image\n",
        "        img = nib.load(file_path)\n",
        "\n",
        "        # Check if 'RIGHT' is in the filename\n",
        "        if 'RIGHT' in filename:\n",
        "            # Flip the image data along the third dimension (slices)\n",
        "            flipped_data = img.get_fdata()[:, :, ::-1]\n",
        "\n",
        "            # Convert the data to 16-bit integers\n",
        "            flipped_data = flipped_data.astype(np.int16)\n",
        "\n",
        "            # Create a new nifti image with the flipped data and original affine matrix\n",
        "            flipped_img = nib.Nifti1Image(flipped_data, img.affine)\n",
        "\n",
        "            # Construct the path to save the new nifti file\n",
        "            new_file_path = os.path.join(output_dir, filename)\n",
        "\n",
        "            # Save the new nifti image in output_dir\n",
        "            nib.save(flipped_img, new_file_path)\n",
        "        else:\n",
        "            # Construct the path to save the original nifti file in output_dir\n",
        "            new_file_path = os.path.join(output_dir, filename)\n",
        "\n",
        "            # Copy the original nifti image to the new directory without flipping it\n",
        "            shutil.copy(file_path, new_file_path)\n",
        "\n",
        "flip_images('/content/drive/MyDrive/nifti_MRIs00') #please change this to the path for output folder of the previous bit\n"
      ],
      "metadata": {
        "id": "s9c9XPKZgK0n"
      },
      "execution_count": null,
      "outputs": []
    },
    {
      "cell_type": "code",
      "source": [
        "#-----------------------------change the images back to 2D slices and in tif format------\n",
        "import os\n",
        "import nibabel as nib\n",
        "from PIL import Image\n",
        "\n",
        "# specify your path\n",
        "path = '/content/drive/MyDrive/orientedMRIs00' #please change this to the path for output folder of the previous bit\n",
        "\n",
        "# iterate over all images in the directory\n",
        "for image_name in os.listdir(path):\n",
        "    # Construct the path to the file\n",
        "    file_path = os.path.join(path, image_name)\n",
        "\n",
        "    # Load the nifti image and convert it to a numpy array\n",
        "    img_nifti = nib.load(file_path)\n",
        "    image_array = img_nifti.get_fdata()\n",
        "\n",
        "    # iterate over all slices in the 3D image\n",
        "    for i in range(image_array.shape[2]):\n",
        "        # get the i-th slice (add 1 to i because slice numbers start from 1)\n",
        "        slice_2d = image_array[:, :, i]\n",
        "\n",
        "        # normalize the slice to 0-255 range\n",
        "        slice_2d = ((slice_2d - slice_2d.min()) * (1/(slice_2d.max() - slice_2d.min()) * 255)).astype('uint8')\n",
        "\n",
        "        # create a PIL image from the 2D slice\n",
        "        img_2d = Image.fromarray(slice_2d)\n",
        "\n",
        "        # save the 2D image with a new name that includes the slice number (add 1 to i because slice numbers start from 1)\n",
        "        img_2d.save(os.path.join(path, f'{image_name[:-4]}_{i+1}.tif'))\n",
        "\n",
        "    # remove the original 3D nifti image\n",
        "    os.remove(file_path)"
      ],
      "metadata": {
        "id": "zKoUmFrjjEPQ"
      },
      "execution_count": null,
      "outputs": []
    },
    {
      "cell_type": "code",
      "source": [
        "#---------------------categorize the slices into medial and lateral and add them and their names to numpy arrays----\n",
        "import os\n",
        "import numpy as np\n",
        "import imageio\n",
        "\n",
        "img_dir = '/content/drive/MyDrive/orientedMRIs00' #please change this to the same path you defined for the previous bit\n",
        "\n",
        "# Initialize lists to store the medial and lateral images and masks\n",
        "medial_img_list = []\n",
        "lateral_img_list = []\n",
        "medial_img_names = []  # New list for medial image names\n",
        "lateral_img_names = []  # New list for lateral image names\n",
        "\n",
        "# Get a list of image files in the directory\n",
        "img_files = [f for f in os.listdir(img_dir) if f.endswith('.tif')]\n",
        "\n",
        "# Sort the image files by their slice number\n",
        "img_files.sort(key=lambda x: int(x.split('_')[-1].split('.')[0]))\n",
        "\n",
        "# Loop over the sorted image files\n",
        "for img_file in img_files:\n",
        "    # Set the path to the image file\n",
        "    img_path = os.path.join(img_dir, img_file)\n",
        "\n",
        "    # Load the image using imageio\n",
        "    img = imageio.v2.imread(img_path)\n",
        "\n",
        "    # Check if the slice number is less than 15 or greater than 21\n",
        "    slice_number = int(img_file.split('_')[-1].split('.')[0])\n",
        "    if slice_number < 18:\n",
        "        # Add the image to the medial image list\n",
        "        medial_img_list.append(img)\n",
        "        medial_img_names.append(img_file)  # Save the name of the medial image\n",
        "    elif slice_number >= 18:\n",
        "        # Add the image to the lateral image list\n",
        "        lateral_img_list.append(img)\n",
        "        lateral_img_names.append(img_file)  # Save the name of the lateral image\n",
        "\n",
        "# Convert the medial and lateral image lists to numpy arrays\n",
        "medial_img_array = np.array(medial_img_list)\n",
        "lateral_img_array = np.array(lateral_img_list)\n"
      ],
      "metadata": {
        "id": "7PGg0Ofaj1pP"
      },
      "execution_count": null,
      "outputs": []
    },
    {
      "cell_type": "code",
      "source": [
        "#----------------------save the numpy arrays to a new directory--------------------------\n",
        "# specify the paths to the files where you want to save the numpy arrays\n",
        "save_dir = '/content/drive/MyDrive/numpyimages00' #please create a new folder first and then copy its path here\n",
        "\n",
        "# save the numpy arrays to the files\n",
        "np.save(os.path.join(save_dir, 'medial_img_array.npy'), medial_img_array)\n",
        "np.save(os.path.join(save_dir, 'lateral_img_array.npy'), lateral_img_array)\n",
        "np.save(os.path.join(save_dir, 'medial_img_names.npy'), medial_img_names)\n",
        "np.save(os.path.join(save_dir, 'lateral_img_names.npy'), lateral_img_names)"
      ],
      "metadata": {
        "id": "dakyOfNS1Ku6"
      },
      "execution_count": null,
      "outputs": []
    }
  ]
}